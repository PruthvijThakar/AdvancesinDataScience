{
 "cells": [
  {
   "cell_type": "code",
   "execution_count": 62,
   "metadata": {},
   "outputs": [
    {
     "name": "stdout",
     "output_type": "stream",
     "text": [
      "SELECT parcelid,latitude, longitude, SQRT( POW(69.1 * (ifNULL(latitude,0)/1000000 - 33.975549), 2) +POW(69.1 * (-118.398761- ifNULL(longitude,0)/1000000) * COS(ifNULL(latitude,0)/ 57300000), 2)) AS distanceFROM latlong.zillow ORDER BY distance limit 10;\n"
     ]
    }
   ],
   "source": [
    "    "
   ]
  },
  {
   "cell_type": "code",
   "execution_count": 1,
   "metadata": {},
   "outputs": [
    {
     "name": "stderr",
     "output_type": "stream",
     "text": [
      " * Running on http://127.0.0.1:5000/ (Press CTRL+C to quit)\n",
      "127.0.0.1 - - [07/Jul/2017 18:46:32] \"GET / HTTP/1.1\" 200 -\n",
      "127.0.0.1 - - [07/Jul/2017 18:46:37] \"GET / HTTP/1.1\" 200 -\n",
      "127.0.0.1 - - [07/Jul/2017 18:47:08] \"GET / HTTP/1.1\" 200 -\n",
      "127.0.0.1 - - [07/Jul/2017 18:47:32] \"GET /placerid/yy HTTP/1.1\" 200 -\n"
     ]
    }
   ],
   "source": [
    "from flask import jsonify\n",
    "from flask import Flask, url_for\n",
    "from flask import request\n",
    "from bigquery import get_client\n",
    "import requests\n",
    "import json\n",
    "#import traceback\n",
    "\n",
    "app = Flask(__name__)\n",
    "\n",
    "@app.route('/placerid/<id>')\n",
    "def api_root(id):\n",
    "    try:\n",
    "        val = int(id)\n",
    "        json_key = 'clients_secrets.json'\n",
    "        client = get_client(json_key_file=json_key, readonly=True)\n",
    "        try:\n",
    "            print(\"started querying\")\n",
    "            queryStatement = \"select * from latlong.zillow where parcelid =\" + id + \";\"\n",
    "            print(queryStatement) \n",
    "            job_id, _results = client.query(queryStatement,timeout = 15)\n",
    "        except:\n",
    "            print(\"Error executing query\") \n",
    "        complete, row_count = client.check_job(job_id)\n",
    "        if complete:\n",
    "            results = client.get_query_rows(job_id)\n",
    "        else:\n",
    "            results = \"Long time to process request\"\n",
    "    except ValueError:\n",
    "        results = \"Invalid input\"\n",
    "    \n",
    "    \n",
    "    resp = jsonify({'result': results})\n",
    "    return resp\n",
    "\n",
    "@app.route('/')\n",
    "def api_articles():\n",
    "    return \"Server is running\"\n",
    "\n",
    "# @app.route('/articles/<float:articleid>')\n",
    "# def api_article(articleid):\n",
    "#     print(articleid)\n",
    "#     return  \"HI\"\n",
    "\n",
    "@app.route('/getNearest', methods=[\"POST\"])\n",
    "def getNearest():\n",
    "    print(request.headers['Content-Type'])\n",
    "    if request.method == \"POST\":\n",
    "        try:\n",
    "            json_dict = request.get_json()\n",
    "            \n",
    "\n",
    "            print(json_dict)\n",
    "            exactlatvalue = json_dict['lat']\n",
    "            exactlongvalue = json_dict['long']\n",
    "            a1 = \"SELECT parcelid,latitude, longitude, SQRT( POW(69.1 * (ifNULL(latitude,0)/1000000 - \"\n",
    "            a2 = \"), 2) +POW(69.1 * (\"\n",
    "            a3 = \"- ifNULL(longitude,0)/1000000) * COS(ifNULL(latitude,0)/ 57300000), 2)) AS distance\"\n",
    "            a4 = \" FROM latlong.zillow ORDER BY distance limit 10;\"\n",
    "            q = a1+exactlatvalue+a2+exactlongvalue+a3+a4\n",
    "            json_key = 'clients_secrets.json'\n",
    "            client = get_client(json_key_file=json_key, readonly=True)\n",
    "            print(\"started querying\")\n",
    "            job_id, _results = client.query(q,timeout = 25)\n",
    "            complete, row_count = client.check_job(job_id)\n",
    "            if complete:\n",
    "\n",
    "                results = client.get_query_rows(job_id)\n",
    "            else:\n",
    "                results = \"Long time to process request\"\n",
    "            return jsonify(results)    \n",
    "\n",
    "        except:\n",
    "            print(\"Error executing query\") \n",
    "#            traceback.print_exc()\n",
    "            return jsonify(\"Error executing the query\")\n",
    "        \n",
    "        \n",
    "    else:\n",
    "\n",
    "        return \"\"\"<html><body>\n",
    "        Something went wrong\n",
    "        </body></html>\"\"\"\n",
    "\n",
    "\n",
    "# SELECT parcelid,latitude, longitude, SQRT(\n",
    "#     POW(69.1 * (ifNULL(latitude,0)/1000000 -34.289776 ), 2) +\n",
    "#     POW(69.1 * (-118.432085 - ifNULL(longitude,0)/1000000) * COS(ifNULL(latitude,0)/ 57300000), 2)) AS distance\n",
    "# FROM latlong.zillow ORDER BY distance limit 10;\n",
    "\n",
    "\n",
    "\n",
    "\n",
    "if __name__ == '__main__':\n",
    "    app.run()"
   ]
  }
 ],
 "metadata": {
  "kernelspec": {
   "display_name": "Python 3",
   "language": "python",
   "name": "python3"
  },
  "language_info": {
   "codemirror_mode": {
    "name": "ipython",
    "version": 3
   },
   "file_extension": ".py",
   "mimetype": "text/x-python",
   "name": "python",
   "nbconvert_exporter": "python",
   "pygments_lexer": "ipython3",
   "version": "3.5.2"
  }
 },
 "nbformat": 4,
 "nbformat_minor": 2
}
